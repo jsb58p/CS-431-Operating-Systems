{
  "nbformat": 4,
  "nbformat_minor": 0,
  "metadata": {
    "colab": {
      "provenance": [],
      "authorship_tag": "ABX9TyMWqxtlOnsTvX4owmCcG92t",
      "include_colab_link": true
    },
    "kernelspec": {
      "name": "python3",
      "display_name": "Python 3"
    },
    "language_info": {
      "name": "python"
    }
  },
  "cells": [
    {
      "cell_type": "markdown",
      "metadata": {
        "id": "view-in-github",
        "colab_type": "text"
      },
      "source": [
        "<a href=\"https://colab.research.google.com/github/jsb58p/CS-431-Operating-Systems/blob/main/Banker's%20Algorithm.ipynb\" target=\"_parent\"><img src=\"https://colab.research.google.com/assets/colab-badge.svg\" alt=\"Open In Colab\"/></a>"
      ]
    },
    {
      "cell_type": "code",
      "execution_count": 136,
      "metadata": {
        "id": "dxQxG-7urXGn"
      },
      "outputs": [],
      "source": [
        "# Data\n",
        "Processes = ['p0', 'p1', 'p2', 'p3', 'p4']\n",
        "Resources = ['A', 'B', 'C']\n",
        "NumberOfProcesses = len(Processes)\n",
        "NumberOfResources = len(Resources)\n",
        "Alloc = ([\n",
        "    [0, 1, 0],\n",
        "    [2, 0, 0],\n",
        "    [3, 0, 2],\n",
        "    [2, 1, 1],\n",
        "    [0, 0, 2]\n",
        "])\n",
        "Max = ([\n",
        "    [7, 5, 3],\n",
        "    [3, 2, 2],\n",
        "    [9, 0, 2],\n",
        "    [2, 2, 2],\n",
        "    [4, 3, 3]\n",
        "])\n",
        "Avail = ([3, 3, 2])\n"
      ]
    },
    {
      "cell_type": "code",
      "source": [
        "# Need Matrix Calculation\n",
        "def CalculateNeedMatrix(Allocation, MaxNeed):\n",
        "  Need = []\n",
        "  for i in range(NumberOfProcesses):\n",
        "    row = []\n",
        "    for j in range(NumberOfResources):\n",
        "        value = Max[i][j] - Alloc[i][j]\n",
        "        row.append(value)\n",
        "    Need.append(row)\n",
        "  return Need\n"
      ],
      "metadata": {
        "id": "POKoTmXZxAuL"
      },
      "execution_count": 137,
      "outputs": []
    },
    {
      "cell_type": "code",
      "source": [
        "# Safety Algorithm\n",
        "def SafetyAlgorithm(Processes, Allocation, Need, Available):\n",
        "  # Initialize\n",
        "  Work = Available.copy()\n",
        "  Finish = [False] * NumberOfProcesses\n",
        "  SafeSequence = []\n",
        "\n",
        "  # Loop until no more processes can be added to safe sequence\n",
        "  while False in Finish:\n",
        "    found = False\n",
        "\n",
        "    # Try to find an unfinished process that can complete\n",
        "    for i in range(NumberOfProcesses):\n",
        "      if Finish[i] == False:\n",
        "        # Check if this process can be allocated needed resource\n",
        "        canAllocate = True\n",
        "\n",
        "        for j in range(NumberOfResources):\n",
        "          if Need[i][j] > Work[j]:\n",
        "            canAllocate = False\n",
        "            break\n",
        "\n",
        "        # If process can complete\n",
        "        if canAllocate == True:\n",
        "          # Add to safe sequence\n",
        "          SafeSequence.append(Processes[i])\n",
        "\n",
        "          # Mark as finished\n",
        "          Finish[i] = True\n",
        "\n",
        "          # Release resources\n",
        "          for j in range(NumberOfResources):\n",
        "            Work[j] = Work[j] + Allocation[i][j]\n",
        "\n",
        "          found = True\n",
        "          break\n",
        "\n",
        "    # If no process could be found, system is unsafe\n",
        "    if found == False:\n",
        "      return(False,[])\n",
        "\n",
        "  # System is in a safe state\n",
        "  return(True, SafeSequence)\n"
      ],
      "metadata": {
        "id": "g7u3qSF0zpRu"
      },
      "execution_count": 138,
      "outputs": []
    },
    {
      "cell_type": "code",
      "source": [
        "# Main Banker's Algorithm\n",
        "def BankersAlgorithm(Processes, Allocation, MaxNeed, Available):\n",
        "  # Calculate need matrix\n",
        "  Need = CalculateNeedMatrix(Allocation, MaxNeed)\n",
        "\n",
        "  # Run the safety algorithm\n",
        "  return SafetyAlgorithm(Processes, Allocation, Need, Available)\n"
      ],
      "metadata": {
        "id": "Ley-haxE1cI7"
      },
      "execution_count": 139,
      "outputs": []
    },
    {
      "cell_type": "code",
      "source": [
        "from copy import deepcopy\n",
        "def ResourceRequestAlgorithm(Processes, Allocation, MaxNeed, Available, ProcessIdx, Request):\n",
        "  Need = CalculateNeedMatrix(Allocation, MaxNeed)\n",
        "\n",
        "  # Step 1: Check if request exceeds need\n",
        "  for j in range(NumberOfResources):\n",
        "    if Request[j] > Need[ProcessIdx][j]:\n",
        "      return False #Request exceeds maximum claim\n",
        "\n",
        "  # Step 2: Check if resources are available\n",
        "  for j in range(NumberOfResources):\n",
        "    if Request[j] > Available[j]:\n",
        "      return False # Resources not available\n",
        "\n",
        "  # Step 3: Pretend to allocate resources\n",
        "  TempAllocation = deepcopy(Allocation)\n",
        "  TempAvailable = Available.copy()\n",
        "\n",
        "  for j in range(NumberOfResources):\n",
        "    TempAllocation[ProcessIdx][j] += Request[j]\n",
        "    TempAvailable[j] -= Request[j]\n",
        "\n",
        "  TempNeed = CalculateNeedMatrix(TempAllocation, MaxNeed)\n",
        "\n",
        "  # Step 4: Check if resulting state is safe\n",
        "  IsSafe, _ = SafetyAlgorithm(Processes, TempAllocation, TempNeed, TempAvailable)\n",
        "\n",
        "  return IsSafe\n"
      ],
      "metadata": {
        "id": "TTCPn3oL19Ra"
      },
      "execution_count": 140,
      "outputs": []
    },
    {
      "cell_type": "code",
      "source": [
        "# Banker's Algorithm function returns a safe state and sequence\n",
        "isSafe, safeSequence = BankersAlgorithm(Processes, Alloc, Max, Avail)\n",
        "\n",
        "# Print the result\n",
        "if isSafe:\n",
        "    print(\"Safe sequence:\", safeSequence)\n",
        "else:\n",
        "    print(\"System is in an unsafe state.\")\n"
      ],
      "metadata": {
        "colab": {
          "base_uri": "https://localhost:8080/"
        },
        "id": "TvWUzSZr4PmT",
        "outputId": "da0408bd-05ed-4438-b184-7939988a3c82"
      },
      "execution_count": 141,
      "outputs": [
        {
          "output_type": "stream",
          "name": "stdout",
          "text": [
            "Safe sequence: ['p1', 'p3', 'p0', 'p2', 'p4']\n"
          ]
        }
      ]
    }
  ]
}