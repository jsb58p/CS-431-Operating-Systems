{
  "nbformat": 4,
  "nbformat_minor": 0,
  "metadata": {
    "colab": {
      "provenance": [],
      "authorship_tag": "ABX9TyPjGBSgviCKEiwJ0WCM1D5b",
      "include_colab_link": true
    },
    "kernelspec": {
      "name": "python3",
      "display_name": "Python 3"
    },
    "language_info": {
      "name": "python"
    }
  },
  "cells": [
    {
      "cell_type": "markdown",
      "metadata": {
        "id": "view-in-github",
        "colab_type": "text"
      },
      "source": [
        "<a href=\"https://colab.research.google.com/github/jsb58p/CS-431-Operating-Systems/blob/main/Banker's%20Algorithm.ipynb\" target=\"_parent\"><img src=\"https://colab.research.google.com/assets/colab-badge.svg\" alt=\"Open In Colab\"/></a>"
      ]
    },
    {
      "cell_type": "code",
      "execution_count": 16,
      "metadata": {
        "id": "dxQxG-7urXGn"
      },
      "outputs": [],
      "source": [
        "# Data\n",
        "NumberOfProcesses = 5\n",
        "NumberOfResources = 3\n",
        "Alloc = ([\n",
        "    [0, 1, 0],\n",
        "    [2, 0, 0],\n",
        "    [3, 0, 2],\n",
        "    [2, 1, 1],\n",
        "    [0, 0, 2]\n",
        "])\n",
        "Max = ([\n",
        "    [7, 5, 3],\n",
        "    [3, 2, 2],\n",
        "    [9, 0, 2],\n",
        "    [2, 2, 2],\n",
        "    [4, 3, 3]\n",
        "])\n",
        "Avail = ([3, 3, 2])\n",
        "\n"
      ]
    },
    {
      "cell_type": "code",
      "source": [
        "# Need Matrix Calculation\n",
        "def CalculateNeedMatrix(Allocation, MaxNeed):\n",
        "  for i in NumberOfProcesses - 1:\n",
        "    for j in NumberOfResources - 1:\n",
        "      Need[i][j] = MaxNeed[i][j] - Allocation[i][j]\n",
        "  return Need\n"
      ],
      "metadata": {
        "id": "POKoTmXZxAuL"
      },
      "execution_count": 20,
      "outputs": []
    },
    {
      "cell_type": "code",
      "source": [
        "# Safety Algorithm\n",
        "def SafetyAlgorithm(Processes, Allocation, Need, Available):\n",
        "  # Initialize\n",
        "  Work = Available.copy()\n",
        "  Finish = [False] * NumberOfProcesses\n",
        "  SafeSequence = []\n",
        "\n",
        "  # Loop until no more processes can be added to safe sequence\n",
        "  while False in Finish:\n",
        "    found = False\n",
        "\n",
        "    # Try to find an unfinished process that can complete\n",
        "    for i in NumberOfProcesses - 1:\n",
        "      if Finish[i] == False:\n",
        "        # Check if this process can be allocated needed resource\n",
        "        canAllocate = True\n",
        "\n",
        "        for j in NumberOfResources - 1:\n",
        "          if Need[i][j] > Work[j]:\n",
        "            canAllocate = False\n",
        "            break\n",
        "\n",
        "        # If process can complete\n",
        "        if canAllocate == True:\n",
        "          # Add to safe sequence\n",
        "          SafeSequence.append(Processes[i])\n",
        "\n",
        "          # Mark as finished\n",
        "          Finish[i] = True\n",
        "\n",
        "          # Release resources\n",
        "          for j in NumberOfResources - 1:\n",
        "            Work[j] = Work[j] + Allocation[i][j]\n",
        "\n",
        "          found = True\n",
        "          break\n",
        "\n",
        "    # If no process could be found, system is unsafe\n",
        "    if found == False:\n",
        "      return(False,[])\n",
        "\n",
        "  # System is in a safe state\n",
        "  return(True, SafeSequence)\n",
        ""
      ],
      "metadata": {
        "id": "g7u3qSF0zpRu"
      },
      "execution_count": 23,
      "outputs": []
    }
  ]
}